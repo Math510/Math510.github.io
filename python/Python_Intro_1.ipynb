{
 "metadata": {
  "name": "",
  "signature": "sha256:cdd3fbbe12300dfc4fb316b2f8b4d36d8ebac877d96b72c382fdaad3a0911cef"
 },
 "nbformat": 3,
 "nbformat_minor": 0,
 "worksheets": [
  {
   "cells": [
    {
     "cell_type": "heading",
     "level": 1,
     "metadata": {},
     "source": [
      "Introduction to iPython"
     ]
    },
    {
     "cell_type": "heading",
     "level": 2,
     "metadata": {},
     "source": [
      "Do some simple math. Add and multiply some numbers."
     ]
    },
    {
     "cell_type": "code",
     "collapsed": false,
     "input": [
      "print(2+56+84+65498+21+22)\n",
      "print(2**8)\n",
      "print((1+4)*(9-6))"
     ],
     "language": "python",
     "metadata": {},
     "outputs": [
      {
       "output_type": "stream",
       "stream": "stdout",
       "text": [
        "65683\n",
        "256\n",
        "15\n"
       ]
      }
     ],
     "prompt_number": 2
    },
    {
     "cell_type": "heading",
     "level": 2,
     "metadata": {},
     "source": [
      "Characters"
     ]
    },
    {
     "cell_type": "code",
     "collapsed": false,
     "input": [
      "s = 'spam'\n",
      "print(s[0], s[-2])\n",
      "print(s[1:3], s[1:], s[:-1])"
     ],
     "language": "python",
     "metadata": {},
     "outputs": [
      {
       "output_type": "stream",
       "stream": "stdout",
       "text": [
        "s a\n",
        "pa pam spa\n"
       ]
      }
     ],
     "prompt_number": 7
    },
    {
     "cell_type": "heading",
     "level": 2,
     "metadata": {},
     "source": [
      "Check current working directory"
     ]
    },
    {
     "cell_type": "code",
     "collapsed": false,
     "input": [
      "import sys #Load the sys library\n",
      "import os #Load the os library\n",
      "import re #Load regular expression pattern matching library\n",
      "print(os.getcwd())\n",
      "print(sys.platform)"
     ],
     "language": "python",
     "metadata": {},
     "outputs": [
      {
       "output_type": "stream",
       "stream": "stdout",
       "text": [
        "/Users/gs13macpro/Box Sync/Gerhard Pilcher/Georgetown Univ/510 Course 2015 Fall/Python\n",
        "darwin\n"
       ]
      }
     ],
     "prompt_number": 10
    },
    {
     "cell_type": "heading",
     "level": 2,
     "metadata": {},
     "source": [
      "Help"
     ]
    },
    {
     "cell_type": "code",
     "collapsed": false,
     "input": [
      "help(os)"
     ],
     "language": "python",
     "metadata": {},
     "outputs": [],
     "prompt_number": 11
    },
    {
     "cell_type": "code",
     "collapsed": false,
     "input": [
      "import urllib.request\n",
      "r = urllib.request.urlopen('https://github.com/gerhardpilcher/2015Fall510/raw/master/2015%20FALL%20510%20Course%20Schedule.pdf')\n",
      "myfile = open('/Users/gs13macpro/Downloads/Schedule.pdf', 'wb')\n",
      "myfile.write(r.read())\n",
      "myfile.close()"
     ],
     "language": "python",
     "metadata": {},
     "outputs": [],
     "prompt_number": 14
    },
    {
     "cell_type": "code",
     "collapsed": false,
     "input": [
      "r = urllib.request.urlopen('https://github.com/gerhardpilcher/2015Fall510/raw/master/2015%20FALL%20510%20Syllabus.pdf')\n",
      "myfile = open('/Users/gs13macpro/Downloads/Syllabus.pdf', 'wb')\n",
      "myfile.write(r.read())\n",
      "myfile.close()"
     ],
     "language": "python",
     "metadata": {},
     "outputs": [],
     "prompt_number": 16
    },
    {
     "cell_type": "heading",
     "level": 2,
     "metadata": {},
     "source": [
      "Modules"
     ]
    },
    {
     "cell_type": "heading",
     "level": 3,
     "metadata": {},
     "source": [
      "Create a variable"
     ]
    },
    {
     "cell_type": "code",
     "collapsed": false,
     "input": [
      "title = 'Something Else'\n",
      "print(title)"
     ],
     "language": "python",
     "metadata": {},
     "outputs": [
      {
       "output_type": "stream",
       "stream": "stdout",
       "text": [
        "Something Else\n"
       ]
      }
     ],
     "prompt_number": 1
    },
    {
     "cell_type": "heading",
     "level": 3,
     "metadata": {},
     "source": [
      "Import variables from a module"
     ]
    },
    {
     "cell_type": "code",
     "collapsed": false,
     "input": [
      "import Class_1_Module #uses Class_1_Module name space\n",
      "dir(Class_1_Module)\n",
      "print(Class_1_Module.title)\n",
      "print(Class_1_Module.MyAge)"
     ],
     "language": "python",
     "metadata": {},
     "outputs": [
      {
       "output_type": "stream",
       "stream": "stdout",
       "text": [
        "Math 510 Fall 2015\n",
        "54.0\n"
       ]
      }
     ],
     "prompt_number": 1
    },
    {
     "cell_type": "heading",
     "level": 2,
     "metadata": {},
     "source": [
      "Functions"
     ]
    },
    {
     "cell_type": "code",
     "collapsed": false,
     "input": [],
     "language": "python",
     "metadata": {},
     "outputs": []
    }
   ],
   "metadata": {}
  }
 ]
}